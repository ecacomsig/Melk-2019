{
 "cells": [
  {
   "cell_type": "markdown",
   "metadata": {},
   "source": [
    "# Comtypes\n",
    "\n",
    "Comtypes is a library to interact with software that have registered a COM (component object model) interface. The COM interface is stored centrally in Windows, and can be accessed from any software through a unified API. Many softwares have COM interfaces. Previously, it was also known as ActiveX.\n",
    "\n",
    "https://pythonhosted.org/comtypes/"
   ]
  },
  {
   "cell_type": "code",
   "execution_count": 1,
   "metadata": {},
   "outputs": [],
   "source": [
    "from pathlib import Path\n",
    "import matplotlib.pyplot as plt\n",
    "import numpy as np"
   ]
  },
  {
   "cell_type": "markdown",
   "metadata": {},
   "source": [
    "Open `comtypes.xlsx`"
   ]
  },
  {
   "cell_type": "code",
   "execution_count": 2,
   "metadata": {},
   "outputs": [
    {
     "ename": "AttributeError",
     "evalue": "module 'comtypes.gen.Excel' has no attribute '_Application'",
     "output_type": "error",
     "traceback": [
      "\u001b[1;31m---------------------------------------------------------------------------\u001b[0m",
      "\u001b[1;31mAttributeError\u001b[0m                            Traceback (most recent call last)",
      "\u001b[1;32m<ipython-input-2-ce532995d33f>\u001b[0m in \u001b[0;36m<module>\u001b[1;34m\u001b[0m\n\u001b[0;32m      4\u001b[0m \u001b[0mfilepath\u001b[0m \u001b[1;33m=\u001b[0m \u001b[1;33m(\u001b[0m\u001b[0mPath\u001b[0m\u001b[1;33m(\u001b[0m\u001b[1;34m\".\"\u001b[0m\u001b[1;33m)\u001b[0m \u001b[1;33m/\u001b[0m \u001b[0mfilename\u001b[0m\u001b[1;33m)\u001b[0m\u001b[1;33m.\u001b[0m\u001b[0mabsolute\u001b[0m\u001b[1;33m(\u001b[0m\u001b[1;33m)\u001b[0m\u001b[1;33m\u001b[0m\u001b[0m\n\u001b[0;32m      5\u001b[0m \u001b[1;33m\u001b[0m\u001b[0m\n\u001b[1;32m----> 6\u001b[1;33m \u001b[0mapp\u001b[0m \u001b[1;33m=\u001b[0m \u001b[0mCreateObject\u001b[0m\u001b[1;33m(\u001b[0m\u001b[1;34m\"Excel.Application\"\u001b[0m\u001b[1;33m)\u001b[0m\u001b[1;33m\u001b[0m\u001b[0m\n\u001b[0m\u001b[0;32m      7\u001b[0m \u001b[0mapp\u001b[0m\u001b[1;33m.\u001b[0m\u001b[0mVisible\u001b[0m \u001b[1;33m=\u001b[0m \u001b[1;32mTrue\u001b[0m\u001b[1;33m\u001b[0m\u001b[0m\n\u001b[0;32m      8\u001b[0m \u001b[1;33m\u001b[0m\u001b[0m\n",
      "\u001b[1;32m~\\Miniconda3\\lib\\site-packages\\comtypes-1.1.4-py3.6.egg\\comtypes\\client\\__init__.py\u001b[0m in \u001b[0;36mCreateObject\u001b[1;34m(progid, clsctx, machine, interface, dynamic, pServerInfo)\u001b[0m\n\u001b[0;32m    248\u001b[0m     \u001b[1;32mif\u001b[0m \u001b[0mdynamic\u001b[0m\u001b[1;33m:\u001b[0m\u001b[1;33m\u001b[0m\u001b[0m\n\u001b[0;32m    249\u001b[0m         \u001b[1;32mreturn\u001b[0m \u001b[0mcomtypes\u001b[0m\u001b[1;33m.\u001b[0m\u001b[0mclient\u001b[0m\u001b[1;33m.\u001b[0m\u001b[0mdynamic\u001b[0m\u001b[1;33m.\u001b[0m\u001b[0mDispatch\u001b[0m\u001b[1;33m(\u001b[0m\u001b[0mobj\u001b[0m\u001b[1;33m)\u001b[0m\u001b[1;33m\u001b[0m\u001b[0m\n\u001b[1;32m--> 250\u001b[1;33m     \u001b[1;32mreturn\u001b[0m \u001b[0m_manage\u001b[0m\u001b[1;33m(\u001b[0m\u001b[0mobj\u001b[0m\u001b[1;33m,\u001b[0m \u001b[0mclsid\u001b[0m\u001b[1;33m,\u001b[0m \u001b[0minterface\u001b[0m\u001b[1;33m=\u001b[0m\u001b[0minterface\u001b[0m\u001b[1;33m)\u001b[0m\u001b[1;33m\u001b[0m\u001b[0m\n\u001b[0m\u001b[0;32m    251\u001b[0m \u001b[1;33m\u001b[0m\u001b[0m\n\u001b[0;32m    252\u001b[0m \u001b[1;32mdef\u001b[0m \u001b[0mCoGetObject\u001b[0m\u001b[1;33m(\u001b[0m\u001b[0mdisplayname\u001b[0m\u001b[1;33m,\u001b[0m \u001b[0minterface\u001b[0m\u001b[1;33m=\u001b[0m\u001b[1;32mNone\u001b[0m\u001b[1;33m,\u001b[0m \u001b[0mdynamic\u001b[0m\u001b[1;33m=\u001b[0m\u001b[1;32mFalse\u001b[0m\u001b[1;33m)\u001b[0m\u001b[1;33m:\u001b[0m\u001b[1;33m\u001b[0m\u001b[0m\n",
      "\u001b[1;32m~\\Miniconda3\\lib\\site-packages\\comtypes-1.1.4-py3.6.egg\\comtypes\\client\\__init__.py\u001b[0m in \u001b[0;36m_manage\u001b[1;34m(obj, clsid, interface)\u001b[0m\n\u001b[0;32m    186\u001b[0m     \u001b[0mobj\u001b[0m\u001b[1;33m.\u001b[0m\u001b[0m__dict__\u001b[0m\u001b[1;33m[\u001b[0m\u001b[1;34m'__clsid'\u001b[0m\u001b[1;33m]\u001b[0m \u001b[1;33m=\u001b[0m \u001b[0mstr\u001b[0m\u001b[1;33m(\u001b[0m\u001b[0mclsid\u001b[0m\u001b[1;33m)\u001b[0m\u001b[1;33m\u001b[0m\u001b[0m\n\u001b[0;32m    187\u001b[0m     \u001b[1;32mif\u001b[0m \u001b[0minterface\u001b[0m \u001b[1;32mis\u001b[0m \u001b[1;32mNone\u001b[0m\u001b[1;33m:\u001b[0m\u001b[1;33m\u001b[0m\u001b[0m\n\u001b[1;32m--> 188\u001b[1;33m         \u001b[0mobj\u001b[0m \u001b[1;33m=\u001b[0m \u001b[0mGetBestInterface\u001b[0m\u001b[1;33m(\u001b[0m\u001b[0mobj\u001b[0m\u001b[1;33m)\u001b[0m\u001b[1;33m\u001b[0m\u001b[0m\n\u001b[0m\u001b[0;32m    189\u001b[0m     \u001b[1;32mreturn\u001b[0m \u001b[0mobj\u001b[0m\u001b[1;33m\u001b[0m\u001b[0m\n\u001b[0;32m    190\u001b[0m \u001b[1;33m\u001b[0m\u001b[0m\n",
      "\u001b[1;32m~\\Miniconda3\\lib\\site-packages\\comtypes-1.1.4-py3.6.egg\\comtypes\\client\\__init__.py\u001b[0m in \u001b[0;36mGetBestInterface\u001b[1;34m(punk)\u001b[0m\n\u001b[0;32m    110\u001b[0m     \u001b[0mmod\u001b[0m \u001b[1;33m=\u001b[0m \u001b[0mGetModule\u001b[0m\u001b[1;33m(\u001b[0m\u001b[0mtlib\u001b[0m\u001b[1;33m)\u001b[0m\u001b[1;33m\u001b[0m\u001b[0m\n\u001b[0;32m    111\u001b[0m     \u001b[1;31m# Python interface class\u001b[0m\u001b[1;33m\u001b[0m\u001b[1;33m\u001b[0m\u001b[0m\n\u001b[1;32m--> 112\u001b[1;33m     \u001b[0minterface\u001b[0m \u001b[1;33m=\u001b[0m \u001b[0mgetattr\u001b[0m\u001b[1;33m(\u001b[0m\u001b[0mmod\u001b[0m\u001b[1;33m,\u001b[0m \u001b[0mitf_name\u001b[0m\u001b[1;33m)\u001b[0m\u001b[1;33m\u001b[0m\u001b[0m\n\u001b[0m\u001b[0;32m    113\u001b[0m     \u001b[0mlogger\u001b[0m\u001b[1;33m.\u001b[0m\u001b[0mdebug\u001b[0m\u001b[1;33m(\u001b[0m\u001b[1;34m\"Implements default interface from typeinfo %s\"\u001b[0m\u001b[1;33m,\u001b[0m \u001b[0minterface\u001b[0m\u001b[1;33m)\u001b[0m\u001b[1;33m\u001b[0m\u001b[0m\n\u001b[0;32m    114\u001b[0m     \u001b[1;31m# QI for this interface\u001b[0m\u001b[1;33m\u001b[0m\u001b[1;33m\u001b[0m\u001b[0m\n",
      "\u001b[1;31mAttributeError\u001b[0m: module 'comtypes.gen.Excel' has no attribute '_Application'"
     ]
    }
   ],
   "source": [
    "from comtypes.client import CreateObject\n",
    "\n",
    "filename = \"comtypes.xlsx\"\n",
    "filepath = (Path(\".\") / filename).absolute()\n",
    "\n",
    "app = CreateObject(\"Excel.Application\")\n",
    "app.Visible = True\n",
    "\n",
    "wb = app.Workbooks.Open(str(filepath))\n",
    "worksheet = wb.Sheets[1]"
   ]
  },
  {
   "cell_type": "markdown",
   "metadata": {},
   "source": [
    "Read some data"
   ]
  },
  {
   "cell_type": "code",
   "execution_count": null,
   "metadata": {},
   "outputs": [],
   "source": [
    "i = 1\n",
    "for row in range(10):\n",
    "    row += 1\n",
    "    data = worksheet.Cells[row, i].Value()\n",
    "    print(data)"
   ]
  },
  {
   "cell_type": "markdown",
   "metadata": {},
   "source": [
    "Write some data"
   ]
  },
  {
   "cell_type": "code",
   "execution_count": null,
   "metadata": {},
   "outputs": [],
   "source": [
    "i = 1\n",
    "j = 2\n",
    "for row in range(10):\n",
    "    row += 1\n",
    "    data = worksheet.Cells[row, i].Value()\n",
    "    worksheet.Cells[row, j] = data**2"
   ]
  },
  {
   "cell_type": "markdown",
   "metadata": {},
   "source": [
    "Slow version"
   ]
  },
  {
   "cell_type": "code",
   "execution_count": null,
   "metadata": {},
   "outputs": [],
   "source": [
    "worksheet = wb.Sheets[2]\n",
    "I, J = 56, 600\n",
    "arr = np.empty((I, J))\n",
    "\n",
    "for i in range(I):\n",
    "    print(f\"Row {i}\", end=\"\\r\")\n",
    "    for j in range(J):\n",
    "        val = worksheet.Cells[i+1, j+1].Value()\n",
    "        arr[i, j] = val\n",
    "\n",
    "plt.imshow(arr);"
   ]
  },
  {
   "cell_type": "markdown",
   "metadata": {},
   "source": [
    "Faster version"
   ]
  },
  {
   "cell_type": "code",
   "execution_count": null,
   "metadata": {},
   "outputs": [],
   "source": [
    "worksheet = wb.Sheets[2]\n",
    "I, J = 56, 600\n",
    "arr = np.empty((I, J))\n",
    "\n",
    "for i in range(I):\n",
    "    row = worksheet.Rows[i+1].Value()\n",
    "    row = [value for value in row[0] if value != None]\n",
    "    arr[i, :] = np.array(row)\n",
    "\n",
    "plt.imshow(arr);"
   ]
  },
  {
   "cell_type": "markdown",
   "metadata": {},
   "source": [
    "# ctypes\n",
    "\n",
    "`ctypes` is a useful library for interfacing with C-code from Python. The examples here show how we can use `ctypes` to implement functions available from the Windows API, and how we can use it to interface with C functions exposed in a DLL.\n",
    "\n",
    "https://docs.python.org/3.7/library/ctypes.html  "
   ]
  },
  {
   "cell_type": "markdown",
   "metadata": {},
   "source": [
    "## Increasing the Windows time resolution\n",
    "\n",
    "Here we use the Windows multimedia API to increase the Windows time resolution (`C:\\Windows\\System32\\winmm.dll`)\n",
    "\n",
    "https://docs.microsoft.com/en-us/windows/win32/api/timeapi/index    "
   ]
  },
  {
   "cell_type": "markdown",
   "metadata": {},
   "source": [
    "First we need to import the DLL with ctypes and then map the functions. This is essentially telling Python how to interact with the C API."
   ]
  },
  {
   "cell_type": "code",
   "execution_count": 3,
   "metadata": {},
   "outputs": [],
   "source": [
    "from ctypes import wintypes\n",
    "import ctypes\n",
    "\n",
    "winmm = ctypes.WinDLL('winmm')\n",
    "\n",
    "ENABLED = False\n",
    "\n",
    "class TIMECAPS(ctypes.Structure):\n",
    "    _fields_ = (('wPeriodMin', wintypes.UINT),\n",
    "                ('wPeriodMax', wintypes.UINT))\n",
    "\n",
    "milliseconds = 1  # 1 ms is the smallest possible time period on Windows"
   ]
  },
  {
   "cell_type": "markdown",
   "metadata": {},
   "source": [
    "Let's time how long it takes to sleep 1 ms..."
   ]
  },
  {
   "cell_type": "code",
   "execution_count": 5,
   "metadata": {},
   "outputs": [
    {
     "name": "stdout",
     "output_type": "stream",
     "text": [
      "1.12 ms ± 41.8 µs per loop (mean ± std. dev. of 3 runs, 500 loops each)\n"
     ]
    }
   ],
   "source": [
    "%%timeit -n 500 -r 3 import time\n",
    "time.sleep(0.001)"
   ]
  },
  {
   "cell_type": "markdown",
   "metadata": {},
   "source": [
    "Where does this number come from? The Windows scheduler ticks 64 times per second:"
   ]
  },
  {
   "cell_type": "code",
   "execution_count": 7,
   "metadata": {},
   "outputs": [
    {
     "name": "stdout",
     "output_type": "stream",
     "text": [
      "Time period @ 64 ticks/s: 15.625 ms\n"
     ]
    }
   ],
   "source": [
    "print(f\"Time period @ 64 ticks/s: {1/64 * 1000} ms\")"
   ]
  },
  {
   "cell_type": "markdown",
   "metadata": {},
   "source": [
    "So, it takes more than 15 ms for the cpu to sleep just 1 ms...  \n",
    "However, the Windows multimedia library offers functions to adjust the time period when needed. Let's increase the time resolution to 1 ms!"
   ]
  },
  {
   "cell_type": "code",
   "execution_count": 8,
   "metadata": {},
   "outputs": [
    {
     "data": {
      "text/plain": [
       "0"
      ]
     },
     "execution_count": 8,
     "metadata": {},
     "output_type": "execute_result"
    }
   ],
   "source": [
    "# setup\n",
    "caps = TIMECAPS()\n",
    "winmm.timeGetDevCaps(ctypes.byref(caps), ctypes.sizeof(caps))\n",
    "\n",
    "# check that it is within allowed values\n",
    "milliseconds = min(max(milliseconds, caps.wPeriodMin), caps.wPeriodMax)\n",
    "\n",
    "winmm.timeBeginPeriod(milliseconds)"
   ]
  },
  {
   "cell_type": "markdown",
   "metadata": {},
   "source": [
    "Try again:"
   ]
  },
  {
   "cell_type": "code",
   "execution_count": 9,
   "metadata": {},
   "outputs": [
    {
     "name": "stdout",
     "output_type": "stream",
     "text": [
      "1.12 ms ± 20.2 µs per loop (mean ± std. dev. of 3 runs, 500 loops each)\n"
     ]
    }
   ],
   "source": [
    "%%timeit -n 500 -r 3 import time\n",
    "time.sleep(0.001)"
   ]
  },
  {
   "cell_type": "markdown",
   "metadata": {},
   "source": [
    "Much better! Note that this effect is system wide, but we can reset it easily."
   ]
  },
  {
   "cell_type": "code",
   "execution_count": 10,
   "metadata": {},
   "outputs": [
    {
     "data": {
      "text/plain": [
       "0"
      ]
     },
     "execution_count": 10,
     "metadata": {},
     "output_type": "execute_result"
    }
   ],
   "source": [
    "# reset\n",
    "winmm.timeEndPeriod(milliseconds)"
   ]
  },
  {
   "cell_type": "markdown",
   "metadata": {},
   "source": [
    "And to make sure it worked..."
   ]
  },
  {
   "cell_type": "code",
   "execution_count": 11,
   "metadata": {},
   "outputs": [
    {
     "name": "stdout",
     "output_type": "stream",
     "text": [
      "1.14 ms ± 35.6 µs per loop (mean ± std. dev. of 3 runs, 500 loops each)\n"
     ]
    }
   ],
   "source": [
    "%%timeit -n 500 -r 3 import time\n",
    "time.sleep(0.001)"
   ]
  },
  {
   "cell_type": "markdown",
   "metadata": {},
   "source": [
    "Changing the time period is useful when higher precision is required on the scheduler, for example when millisecond time precision is needed `time.sleep` for time-sensitive programs."
   ]
  },
  {
   "cell_type": "markdown",
   "metadata": {},
   "source": [
    "## Interfacing with a DLL\n",
    "\n",
    "A cmore complex, but real-world example of how to interface a DLL that reads data from a camera mounted under a TEM. Again, we will use `ctypes` for this.\n",
    "\n",
    "This example is taken from:\n",
    "https://github.com/stefsmeets/instamatic/blob/master/instamatic/camera/camera_gatan.py"
   ]
  },
  {
   "cell_type": "code",
   "execution_count": 12,
   "metadata": {},
   "outputs": [],
   "source": [
    "import ctypes\n",
    "from ctypes import c_int, c_long, c_float, c_double, c_bool, c_wchar_p\n",
    "from ctypes import POINTER, byref, addressof"
   ]
  },
  {
   "cell_type": "markdown",
   "metadata": {},
   "source": [
    "The only thing we have is a header file (`CCDCOM.h`) and a dll (`CCDCOM2_x64_simulation.dll`), let's see if we can get some data out of this thing. Note that this DLL simulates the connection, and makes up some data for debugging purposes."
   ]
  },
  {
   "cell_type": "code",
   "execution_count": 14,
   "metadata": {},
   "outputs": [
    {
     "name": "stdout",
     "output_type": "stream",
     "text": [
      "int initCCDCOM(int nNumber);\n",
      "void releaseCCDCOM(void);\n",
      "\n",
      "//Whether the camera reports its name and sizes\n",
      "bool isCameraInfoAvailable();\n",
      "\n",
      "bool cameraName(wchar_t* wcName, \n",
      "                int wcNameSize);\n",
      "\n",
      "bool cameraDimensions(int* pnWidth, \n",
      "                      int* pnHeight);\n",
      "\n",
      "int cameraCount(void);\n",
      "\n",
      "int execScript(const wchar_t* script);\n",
      "\n",
      "int acquireImageNewInt(int area_t, \n",
      "                       int area_l, \n",
      "                       int area_b, \n",
      "                       int area_r,\n",
      "                       int* pdata, \n",
      "                       int* pnImgWidth, \n",
      "                       int* pnImgHeight, \n",
      "                       int nBinning, \n",
      "                       double fExposure, \n",
      "                       bool bShowInDM);\n",
      "\n",
      "int acquireImageNewFloat(int area_t, \n",
      "                         int area_l, \n",
      "                         int area_b, \n",
      "                         int area_r, \n",
      "                         int nBinning, \n",
      "                         double fExposure, \n",
      "                         bool bShowInDM,   //Input parameters\n",
      "                         float** pdata, \n",
      "                         int* pnImgWidth, \n",
      "                         int* pnImgHeight  //Output parameters\n",
      "                        );\n",
      "\n",
      "void CCDCOM2_release(float* pdata);\n",
      "\n",
      "// Example code:\n",
      "\n",
      "//Initialization. 20120101 is a magic number. result = 1 on successful return.\n",
      "int result = initCCDCOM(20120101); \n",
      "\n",
      "//pdata is a pointer to a pointer pointing the data. Memory is allocated and returned by the function and needs to be freed outside. See below \n",
      "result = acquireImageNewFloat(0, 0, 2048, 2048, 1, 0.5, false, &pdata, &pnWidth, &pnHeight); \n",
      "\n",
      "//Free the memory returned by the previous function call\n",
      "CCDCOM2_release(pdata);\n",
      "\n",
      "//Close dll\n",
      "releaseCCDCOM();"
     ]
    }
   ],
   "source": [
    "with open(\"CCDCOM.h\", \"r\") as f:\n",
    "    for line in f:\n",
    "        print(line, end=\"\")"
   ]
  },
  {
   "cell_type": "markdown",
   "metadata": {},
   "source": [
    "So the symbols are defined in the header, but they are a bit mangled, it does not matter, because we can make a mapping.  \n",
    "You can use #dependency walker to get function names from DLL: http://www.dependencywalker.com/"
   ]
  },
  {
   "cell_type": "code",
   "execution_count": 15,
   "metadata": {},
   "outputs": [],
   "source": [
    "symbols = {\n",
    "        'acquireImageNewFloat' : '?acquireImageNewFloat@@YAHHHHHHN_NPEAPEAMPEAH2@Z',\n",
    "        'acquireImageNewInt' : '?acquireImageNewInt@@YAHHHHHPEAH00HN_N@Z',\n",
    "        'cameraCount' : '?cameraCount@@YAHXZ',\n",
    "        'cameraDimensions' : '?cameraDimensions@@YA_NPEAH0@Z',\n",
    "        'cameraName' : '?cameraName@@YA_NPEA_WH@Z',\n",
    "        'CCDCOM2_release' : '?CCDCOM2_release@@YAXPEAM@Z',\n",
    "        'initCCDCOM' : '?initCCDCOM@@YAHH@Z',\n",
    "        'isCameraInfoAvailable' : '?isCameraInfoAvailable@@YA_NXZ',\n",
    "        'releaseCCDCOM' : '?releaseCCDCOM@@YAXXZ'\n",
    "        }"
   ]
  },
  {
   "cell_type": "markdown",
   "metadata": {},
   "source": [
    "Next, we load the DLL using ctypes"
   ]
  },
  {
   "cell_type": "code",
   "execution_count": 16,
   "metadata": {},
   "outputs": [],
   "source": [
    "libpath = (Path() / \"CCDCOM2_x64_simulation.dll\").absolute()\n",
    "\n",
    "lib = ctypes.cdll.LoadLibrary(str(libpath))"
   ]
  },
  {
   "cell_type": "markdown",
   "metadata": {},
   "source": [
    "All the functions are defined in the header file, and we get them as attributes from `lib`  \n",
    "Simple functions are easily interfaced, such as the following, which checks if the camera info is available.  \n",
    "We define the interface and the return type as a boolean (`c_bool`)."
   ]
  },
  {
   "cell_type": "code",
   "execution_count": 17,
   "metadata": {},
   "outputs": [
    {
     "name": "stdout",
     "output_type": "stream",
     "text": [
      "Camera available: False\n"
     ]
    }
   ],
   "source": [
    "isCameraInfoAvailable = getattr(lib, symbols['isCameraInfoAvailable'])\n",
    "isCameraInfoAvailable.restype = c_bool\n",
    "\n",
    "print(f\"Camera available: {isCameraInfoAvailable()}\")"
   ]
  },
  {
   "cell_type": "markdown",
   "metadata": {},
   "source": [
    "Easy enough, what about getting the image dimensions.  \n",
    "First we define the function `cameraDimensions`. Because we know the arguments are pointers to where the height and width are stored as floats (`c_long`), we must define the arguments as such. This function does not return, so we do not have to specify the return type (`restype`) as above."
   ]
  },
  {
   "cell_type": "code",
   "execution_count": 18,
   "metadata": {},
   "outputs": [],
   "source": [
    "cameraDimensions = getattr(lib, symbols['cameraDimensions'])\n",
    "cameraDimensions.argtypes = [POINTER(c_long), POINTER(c_long)]"
   ]
  },
  {
   "cell_type": "markdown",
   "metadata": {},
   "source": [
    "Next we can define our own interface, and neatly wrap it in a python interface.  \n",
    "Initialze the width (`pnWidth`) and height (`pnHeight`) as integers, and pass them by reference (`byref`)"
   ]
  },
  {
   "cell_type": "code",
   "execution_count": 20,
   "metadata": {},
   "outputs": [
    {
     "name": "stdout",
     "output_type": "stream",
     "text": [
      "(1024, 1024)\n"
     ]
    }
   ],
   "source": [
    "def get_dimensions():\n",
    "    pnWidth = c_int(0)\n",
    "    pnHeight = c_int(0)\n",
    "    cameraDimensions(byref(pnWidth), byref(pnHeight))\n",
    "    return pnWidth.value, pnHeight.value\n",
    "\n",
    "print(get_dimensions())"
   ]
  },
  {
   "cell_type": "markdown",
   "metadata": {},
   "source": [
    "Ok, that worked, what about a more complex function, such as obtaining the image, which is what we are after.  \n",
    "The trick is the same as above, 1) map the function, 2) specify the arguments (`argtypes`), and 3) specify the return type (`restype`)."
   ]
  },
  {
   "cell_type": "code",
   "execution_count": 21,
   "metadata": {},
   "outputs": [],
   "source": [
    "acquireImageNewFloat = getattr(lib, symbols['acquireImageNewFloat'])\n",
    "acquireImageNewFloat.argtypes = [\n",
    "    ## Input\n",
    "    c_int,    # int area_t \n",
    "    c_int,    # int area_l \n",
    "    c_int,    # int area_b\n",
    "    c_int,    # int area_r\n",
    "    c_int,    # float nBinning\n",
    "    c_double, # double fExposure\n",
    "    c_bool,   # bool bShowInDM\n",
    "    ## Output\n",
    "    POINTER(POINTER(c_float)), # float** pdata\n",
    "    POINTER(c_int),            # int* pnImgWidth\n",
    "    POINTER(c_int)             # int* pnImgHeight\n",
    "]\n",
    "\n",
    "# we must also interface the function to free the memory after the image is retrieved\n",
    "CCDCOM2release = getattr(lib, symbols['CCDCOM2_release'])\n",
    "CCDCOM2release.argtypes = [POINTER(c_float)]"
   ]
  },
  {
   "cell_type": "markdown",
   "metadata": {},
   "source": [
    "Again, we define a function to hide all the messy details to get this to work"
   ]
  },
  {
   "cell_type": "code",
   "execution_count": 22,
   "metadata": {},
   "outputs": [],
   "source": [
    "def get_image(exposure=0.1):\n",
    "    xmin, ymin = 0, 0\n",
    "    xmax, ymax = get_dimensions()\n",
    "    \n",
    "    pdata = POINTER(c_float)()\n",
    "    pnImgWidth = c_int(0)\n",
    "    pnImgHeight = c_int(0)\n",
    "    \n",
    "    acquireImageNewFloat(ymin, xmin, ymax, xmax, \n",
    "                         1, \n",
    "                         exposure, \n",
    "                         False, \n",
    "                         byref(pdata), \n",
    "                         byref(pnImgWidth), \n",
    "                         byref(pnImgHeight)\n",
    "                         )\n",
    "    \n",
    "    # the image dimensions are stored here\n",
    "    xres = pnImgWidth.value\n",
    "    yres = pnImgHeight.value\n",
    "    \n",
    "    # here we calculate the memory space that is addressed from the address of the\n",
    "    # `pdata` pointer by multiplying the number of pixels (`xres`*`yres`) by the\n",
    "    # a floating point in memory ad converting that to a numpy array... oof!\n",
    "    arr = np.ctypeslib.as_array((c_float * xres * yres).from_address(addressof(pdata.contents)))\n",
    "    \n",
    "    arr = arr.copy()\n",
    "    \n",
    "    # we must tell the DLL to release the memory\n",
    "    CCDCOM2release(pdata)\n",
    "    \n",
    "    return arr\n",
    "    "
   ]
  },
  {
   "cell_type": "markdown",
   "metadata": {},
   "source": [
    "Let's see what we got!"
   ]
  },
  {
   "cell_type": "code",
   "execution_count": 23,
   "metadata": {},
   "outputs": [
    {
     "data": {
      "image/png": "[encoded data removed]",
      "text/plain": [
       "<Figure size 432x288 with 1 Axes>"
      ]
     },
     "metadata": {
      "needs_background": "light"
     },
     "output_type": "display_data"
    }
   ],
   "source": [
    "arr = get_image()\n",
    "plt.imshow(arr);"
   ]
  },
  {
   "cell_type": "markdown",
   "metadata": {},
   "source": [
    "# Subprocess\n",
    "\n",
    "https://docs.python.org/3.7/library/subprocess.html\n",
    "\n",
    "Subprocesses are convenient to call programs from Python. This can be any program that is accessible through the Windows command line."
   ]
  },
  {
   "cell_type": "code",
   "execution_count": 24,
   "metadata": {},
   "outputs": [],
   "source": [
    "import subprocess as sp"
   ]
  },
  {
   "cell_type": "markdown",
   "metadata": {},
   "source": [
    "For example, we can start notepad"
   ]
  },
  {
   "cell_type": "code",
   "execution_count": 25,
   "metadata": {},
   "outputs": [],
   "source": [
    "p = sp.run(\"notepad.exe\")"
   ]
  },
  {
   "cell_type": "markdown",
   "metadata": {},
   "source": [
    "But we can also call other programs, like `sginfo`:  \n",
    "http://cci.lbl.gov/sginfo/\n",
    "\n",
    "Sginfo is a command line program that gives space group information. We can specify the space group we are interested in, and capture the output."
   ]
  },
  {
   "cell_type": "code",
   "execution_count": 26,
   "metadata": {},
   "outputs": [
    {
     "name": "stdout",
     "output_type": "stream",
     "text": [
      "# sginfo Pnma -allxyz\r\n",
      "\r\n",
      "Space Group  62  D2h^16  Pnma  -P 2ac 2n\r\n",
      "Point Group  mmm\r\n",
      "Laue  Group  mmm\r\n",
      "Orthorhombic\r\n",
      "\r\n",
      "Order     8\r\n",
      "Order P   8\r\n",
      "\r\n",
      "s.s.Vector  Modulus\r\n",
      "  1  0  0   2\r\n",
      "  0  1  0   2\r\n",
      "  0  0  1   2\r\n",
      "\r\n",
      "# Inversion-Flag = 0\r\n",
      "x, y, z\r\n",
      "-x+1/2, -y, z+1/2\r\n",
      "x+1/2, -y+1/2, -z+1/2\r\n",
      "-x, y+1/2, -z\r\n",
      "# Inversion-Flag = 1\r\n",
      "-x, -y, -z\r\n",
      "x+1/2, y, -z+1/2\r\n",
      "-x+1/2, y+1/2, z+1/2\r\n",
      "x, -y+1/2, z\r\n",
      "\r\n",
      "Grid Special Positions          2  4  2\r\n",
      "Grid Symmetry Operations        4  4  4\r\n",
      "Grid Screw/Glide Translations   2  2  2\r\n",
      "\r\n",
      "\n"
     ]
    }
   ],
   "source": [
    "p = sp.run(\"sginfo Pnma -allxyz\", capture_output=True)\n",
    "print(p.stdout.decode())"
   ]
  },
  {
   "cell_type": "markdown",
   "metadata": {},
   "source": [
    "We can then write a little function to wrap some of the information we are interested.  \n",
    "For example, we want to obtain the Laue group for any space group. We will raise an error if the space group cannot be found."
   ]
  },
  {
   "cell_type": "code",
   "execution_count": 27,
   "metadata": {},
   "outputs": [
    {
     "name": "stdout",
     "output_type": "stream",
     "text": [
      "The Laue group for `Pnma` is `mmm`\n"
     ]
    }
   ],
   "source": [
    "class SpaceGroupError(NameError):\n",
    "    pass\n",
    "\n",
    "def get_laue_group(spgr):\n",
    "    p = sp.run(f\"sginfo {spgr}\", capture_output=True)\n",
    "    stdout = p.stdout.decode()\n",
    "    stderr = p.stderr.decode()\n",
    "    \n",
    "    for line in p.stdout.decode().splitlines():\n",
    "        if line.startswith(\"Laue  Group\"):\n",
    "            ret = line.split()[2]\n",
    "            return ret\n",
    "\n",
    "    raise SpaceGroupError(stderr)\n",
    "\n",
    "spgr = \"Pnma\"\n",
    "lauegr = get_laue_group(spgr)\n",
    "print(f\"The Laue group for `{spgr}` is `{lauegr}`\")"
   ]
  },
  {
   "cell_type": "markdown",
   "metadata": {},
   "source": [
    "# WSL"
   ]
  },
  {
   "cell_type": "markdown",
   "metadata": {},
   "source": [
    "Windows Subsystem for Linux (WSL) is a feature in Windows 10 that allows you to run native Linux executables directly on Windows."
   ]
  },
  {
   "cell_type": "code",
   "execution_count": 28,
   "metadata": {},
   "outputs": [
    {
     "name": "stdout",
     "output_type": "stream",
     "text": [
      "\n",
      " ***** XDS ***** (VERSION Mar 15, 2019  BUILT=20190806)  17-Aug-2019\n",
      " Author: Wolfgang Kabsch\n",
      " Copy licensed until 31-Mar-2020 to\n",
      "  academic users for non-commercial applications   \n",
      " No redistribution.\n",
      "\n",
      "  !!! ERROR !!! CANNOT OPEN OR READ XDS.INP\n",
      "\n",
      "\n"
     ]
    }
   ],
   "source": [
    "import subprocess as sp\n",
    "\n",
    "p = sp.run(\"bash -ic xds\", capture_output=True)\n",
    "print(p.stdout.decode())\n",
    "print(p.stderr.decode())"
   ]
  },
  {
   "cell_type": "markdown",
   "metadata": {},
   "source": [
    "Can we run Linux GUI programs from Python through WSL?\n",
    "\n",
    "For this to work Xming X server for Windows should be installed:  \n",
    "https://sourceforge.net/projects/xming/\n",
    "\n",
    "This makes sure that Windows knows how to render the GUI programs invoked from bash.\n",
    "\n",
    "Also, set the `DISPLAY` environment variable (or add it to `~/.bashrc`):  \n",
    "`export DISPLAY=:0`"
   ]
  },
  {
   "cell_type": "code",
   "execution_count": 29,
   "metadata": {},
   "outputs": [
    {
     "name": "stdout",
     "output_type": "stream",
     "text": [
      "/usr/local/bin/xds_par\n",
      "/usr/local/bin/xds-viewer\n",
      "/usr/local/bin/xdsconv\n",
      "/usr/local/bin/xscale_par\n",
      "\n",
      "Object::connect: No such signal XdsconvTab::signalSetTabEnabled(QWidget*,bool)\n",
      "Object::connect:  (sender name:   'xdsconv')\n",
      "Object::connect:  (receiver name: 'tabWidget')\n",
      "\n"
     ]
    }
   ],
   "source": [
    "import subprocess as sp\n",
    "\n",
    "p = sp.run(\"bash -ic xdsgui\", capture_output=True)\n",
    "print(p.stdout.decode())\n",
    "print(p.stderr.decode())"
   ]
  },
  {
   "cell_type": "markdown",
   "metadata": {},
   "source": [
    "# Sockets\n",
    "\n",
    "Sockets are used for communicating between different programs, locally or over the network. In fact, the python multiprocessing library makes heavy use of sockets for interprocess communcation to achieve parallel processing. Here we will use it to transmit message between a server and a client program.\n",
    "\n",
    "https://docs.python.org/3/library/socket.html"
   ]
  },
  {
   "cell_type": "markdown",
   "metadata": {},
   "source": [
    "First, set some ports. Localhost refers to the local computer, but you can put an ip address here to establish a connection over the network. The port indicates the port over which communcation takes place, and `BUFF` refers to the maximum message length."
   ]
  },
  {
   "cell_type": "code",
   "execution_count": 30,
   "metadata": {},
   "outputs": [],
   "source": [
    "from socket import *\n",
    "\n",
    "HOST = 'localhost'\n",
    "PORT = 8009\n",
    "BUFF = 1024"
   ]
  },
  {
   "cell_type": "markdown",
   "metadata": {},
   "source": [
    "The first example uses Python sockets to establish the connection with the server. First run the `glue echo server.ipynb` notebook."
   ]
  },
  {
   "cell_type": "code",
   "execution_count": 31,
   "metadata": {},
   "outputs": [
    {
     "name": "stdout",
     "output_type": "stream",
     "text": [
      "Sending message to server...\n",
      "Answer -> You sent: 'Hello world!'\n"
     ]
    }
   ],
   "source": [
    "payload = \"Hello world!\"\n",
    "\n",
    "with socket(AF_INET, SOCK_STREAM) as s:\n",
    "    print(\"Sending message to server...\")\n",
    "    \n",
    "    s.connect((HOST, PORT))\n",
    "    s.send(payload.encode())\n",
    "\n",
    "    msg = s.recv(BUFF).decode()\n",
    "    print(\"Answer ->\", msg)"
   ]
  },
  {
   "cell_type": "markdown",
   "metadata": {},
   "source": [
    "The cool thing is, we can actually do the same thing through Python by calling netcat directly using subprocesses"
   ]
  },
  {
   "cell_type": "code",
   "execution_count": null,
   "metadata": {},
   "outputs": [],
   "source": [
    "import subprocess as sp"
   ]
  },
  {
   "cell_type": "code",
   "execution_count": null,
   "metadata": {},
   "outputs": [],
   "source": [
    "msg = \"Hello through netcat!\".encode()\n",
    "\n",
    "p = sp.run(f\"./nc {HOST} {PORT}\", input=msg, capture_output=True)\n",
    "msg = p.stdout.decode()\n",
    "\n",
    "print(msg)"
   ]
  },
  {
   "cell_type": "markdown",
   "metadata": {},
   "source": [
    "The way this works is through pipes. Much like in the command line, software pipes can be specified in Python's subprocess using the following syntax. `sp.run` is nothing more than a wrapper around `sp.Popen` that simplifies this interface."
   ]
  },
  {
   "cell_type": "code",
   "execution_count": null,
   "metadata": {},
   "outputs": [],
   "source": [
    "p1 = sp.Popen(f\"./nc {HOST} {PORT}\", stdout=sp.PIPE, stdin=sp.PIPE)\n",
    "\n",
    "data = \"Hello through netcat (using sp.Popen)!\".encode()\n",
    "\n",
    "msg = p1.communicate(data)[0].decode()\n",
    "print(msg)"
   ]
  },
  {
   "cell_type": "markdown",
   "metadata": {},
   "source": [
    "You can send any data over the network, but you have to make a bytes representation first. `pickle` is a good way to serialize python data."
   ]
  },
  {
   "cell_type": "code",
   "execution_count": null,
   "metadata": {},
   "outputs": [],
   "source": [
    "import pickle\n",
    "\n",
    "arr = [1, 2, 3, 4, 5, 6, 7, 8, 9]\n",
    "\n",
    "payload = pickle.dumps(arr)\n",
    "\n",
    "payload"
   ]
  },
  {
   "cell_type": "markdown",
   "metadata": {},
   "source": [
    "If you now run the second server in the notebook, we can make it calculate the sum of the list above."
   ]
  },
  {
   "cell_type": "code",
   "execution_count": null,
   "metadata": {},
   "outputs": [],
   "source": [
    "with socket(AF_INET, SOCK_STREAM) as s:\n",
    "    print(\"Sending message to server...\")\n",
    "    \n",
    "    s.connect((HOST, PORT))\n",
    "    s.send(payload)\n",
    "\n",
    "    msg = pickle.loads(s.recv(BUFF))\n",
    "    print(\"Answer ->\", msg)"
   ]
  },
  {
   "cell_type": "markdown",
   "metadata": {},
   "source": [
    "This is extremely powerful and quite easy to set up!"
   ]
  },
  {
   "cell_type": "markdown",
   "metadata": {},
   "source": [
    "# PyAutoGui\n",
    "\n",
    "If all other options fail, `pyautogui` is a last resort option. It can find UI elements on the screen, and automate interactions, such as clicking on buttons.\n",
    "\n",
    "https://pypi.org/project/PyAutoGUI/#files"
   ]
  },
  {
   "cell_type": "code",
   "execution_count": 32,
   "metadata": {},
   "outputs": [],
   "source": [
    "import pyautogui as pg\n",
    "\n",
    "import imageio\n",
    "import matplotlib.pyplot as plt"
   ]
  },
  {
   "cell_type": "markdown",
   "metadata": {},
   "source": [
    "First, we define an image to click on."
   ]
  },
  {
   "cell_type": "code",
   "execution_count": 33,
   "metadata": {},
   "outputs": [
    {
     "data": {
      "text/plain": [
       "<matplotlib.image.AxesImage at 0x26b095364e0>"
      ]
     },
     "execution_count": 33,
     "metadata": {},
     "output_type": "execute_result"
    },
    {
     "data": {
      "image/png": "[encoded data removed]",
      "text/plain": [
       "<Figure size 432x288 with 1 Axes>"
      ]
     },
     "metadata": {
      "needs_background": "light"
     },
     "output_type": "display_data"
    }
   ],
   "source": [
    "click_target = \"pp.png\"\n",
    "\n",
    "data = imageio.imread(click_target)\n",
    "\n",
    "plt.imshow(data)"
   ]
  },
  {
   "cell_type": "markdown",
   "metadata": {},
   "source": [
    "Then, `pyautogui` can find the button on the screen and click on it :-)"
   ]
  },
  {
   "cell_type": "code",
   "execution_count": 34,
   "metadata": {},
   "outputs": [],
   "source": [
    "pos = pg.locateCenterOnScreen(click_target)\n",
    "pg.moveTo(pos, duration=2.0, pause=1.0, tween=pg.easeOutQuad)  # add delay for dramatic effect\n",
    "pg.click()\n",
    "pg.hotkey(\"shift\", \"f5\")"
   ]
  },
  {
   "cell_type": "code",
   "execution_count": null,
   "metadata": {},
   "outputs": [],
   "source": []
  }
 ],
 "metadata": {
  "kernelspec": {
   "display_name": "Python 3",
   "language": "python",
   "name": "python3"
  },
  "language_info": {
   "codemirror_mode": {
    "name": "ipython",
    "version": 3
   },
   "file_extension": ".py",
   "mimetype": "text/x-python",
   "name": "python",
   "nbconvert_exporter": "python",
   "pygments_lexer": "ipython3",
   "version": "3.7.0"
  }
 },
 "nbformat": 4,
 "nbformat_minor": 2
}
