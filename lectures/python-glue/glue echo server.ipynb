{
 "cells": [
  {
   "cell_type": "markdown",
   "metadata": {},
   "source": [
    "# Socket server\n",
    "\n",
    "This script sets up a simple echo server that repeats the message sent to it. It listens to port `8009` on `localhost`.\n",
    "\n",
    "https://docs.python.org/3/library/socket.html"
   ]
  },
  {
   "cell_type": "code",
   "execution_count": 1,
   "metadata": {},
   "outputs": [],
   "source": [
    "from socket import *\n",
    "\n",
    "HOST = 'localhost'\n",
    "PORT = 8009\n",
    "BUFF = 1024"
   ]
  },
  {
   "cell_type": "markdown",
   "metadata": {},
   "source": [
    "The next cell starts the echo server."
   ]
  },
  {
   "cell_type": "code",
   "execution_count": null,
   "metadata": {},
   "outputs": [
    {
     "name": "stdout",
     "output_type": "stream",
     "text": [
      "Server listening on localhost:8009\n",
      "Connected by ('127.0.0.1', 51126)\n",
      "Incoming message: 'Hello world!'\n"
     ]
    }
   ],
   "source": [
    "def handle(data):\n",
    "    \"\"\"Use this function to customize what should be done with the data.\"\"\"\n",
    "    print(\"Incoming message:\", repr(data))\n",
    "\n",
    "    return True\n",
    "\n",
    "with socket(AF_INET, SOCK_STREAM) as s:\n",
    "    s.bind((HOST,PORT))\n",
    "    s.listen(5)\n",
    "    print(f\"Server listening on {HOST}:{PORT}\")\n",
    "\n",
    "    # keep socket open to accept new connections\n",
    "    while True:\n",
    "        conn, addr = s.accept()\n",
    "        print('Connected by', addr)\n",
    "    \n",
    "        with conn:\n",
    "            data = conn.recv(BUFF).decode()\n",
    "            if not data:\n",
    "                break\n",
    "            \n",
    "            handle(data)\n",
    "        \n",
    "            msg = f\"You sent: {repr(data)}\"\n",
    "            conn.send(msg.encode())"
   ]
  },
  {
   "cell_type": "markdown",
   "metadata": {},
   "source": [
    "Although the code here looks relatively straightforward, we can make it do almost anything by by changing the `handle` function. In the next example we will return the sum of the data sent over the socket. We need `pickle` to deserialize the incoming data."
   ]
  },
  {
   "cell_type": "code",
   "execution_count": null,
   "metadata": {},
   "outputs": [],
   "source": [
    "import pickle\n",
    "\n",
    "def handle(data):\n",
    "    \"\"\"Sum the values in data.\"\"\"\n",
    "    \n",
    "    s = sum(data)\n",
    "\n",
    "    return s\n",
    "\n",
    "with socket(AF_INET, SOCK_STREAM) as s:\n",
    "    s.bind((HOST,PORT))\n",
    "    s.listen(5)\n",
    "    print(f\"Server listening on {HOST}:{PORT}\")\n",
    "\n",
    "    # keep socket open to accept new connections\n",
    "    while True:\n",
    "        conn, addr = s.accept()\n",
    "        print('Connected by', addr)\n",
    "    \n",
    "        with conn:\n",
    "            data = pickle.loads(conn.recv(BUFF))\n",
    "            print(data)\n",
    "            if not data:\n",
    "                break\n",
    "            \n",
    "            ret = handle(data)\n",
    "        \n",
    "            msg = pickle.dumps(ret)\n",
    "            conn.send(msg)"
   ]
  },
  {
   "cell_type": "code",
   "execution_count": null,
   "metadata": {},
   "outputs": [],
   "source": []
  }
 ],
 "metadata": {
  "kernelspec": {
   "display_name": "Python 3",
   "language": "python",
   "name": "python3"
  },
  "language_info": {
   "codemirror_mode": {
    "name": "ipython",
    "version": 3
   },
   "file_extension": ".py",
   "mimetype": "text/x-python",
   "name": "python",
   "nbconvert_exporter": "python",
   "pygments_lexer": "ipython3",
   "version": "3.7.0"
  }
 },
 "nbformat": 4,
 "nbformat_minor": 2
}
