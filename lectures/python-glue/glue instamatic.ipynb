{
 "cells": [
  {
   "cell_type": "markdown",
   "metadata": {},
   "source": [
    "# Instamatic\n",
    "\n",
    "Instamatic is a tool for automated electron diffraction data collection. It has interfaces for interfacing with the TEM (JEOL/TFS) and several cameras (Gatan/ASI Timepix/TVIPS).\n",
    "\n",
    "This notebook shows some examples of what basic data collection scripts may look like.\n",
    "\n",
    "https://github.com/stefsmeets/instamatic"
   ]
  },
  {
   "cell_type": "markdown",
   "metadata": {},
   "source": [
    "First, we must import and initialize the controller object, which defines the interface to the TEM and the camera. For this example, the microscope interaction is simulated."
   ]
  },
  {
   "cell_type": "code",
   "execution_count": null,
   "metadata": {
    "scrolled": true
   },
   "outputs": [],
   "source": [
    "from instamatic import TEMController\n",
    "from instamatic.formats import write_tiff\n",
    "\n",
    "ctrl = TEMController.initialize()"
   ]
  },
  {
   "cell_type": "markdown",
   "metadata": {},
   "source": [
    "## Discrete rotation electron diffraction\n",
    "\n",
    "This is an example script to collect electron diffraction data with discrete rotation steps with steps of 10° from -60 to 60°. The data are saved in a tiff file."
   ]
  },
  {
   "cell_type": "code",
   "execution_count": null,
   "metadata": {
    "scrolled": true
   },
   "outputs": [],
   "source": [
    "exposure = 0.5  # s\n",
    "angles = range(-50, 51, 10)\n",
    "\n",
    "for i, angle in enumerate(angles):\n",
    "    ctrl.stageposition.set(a=angle)\n",
    "    print(f\"Frame {i} @ {ctrl.stageposition.a:.1f}°\")\n",
    "    img, h = ctrl.getImage(exposure=exposure)\n",
    "    write_tiff(f\"red_{i:04d}.tiff\", img, header=h)\n",
    "    "
   ]
  },
  {
   "cell_type": "markdown",
   "metadata": {},
   "source": [
    "We can show the last image, but they are not very interesting, because they are simulated as noise :-)"
   ]
  },
  {
   "cell_type": "code",
   "execution_count": null,
   "metadata": {
    "scrolled": true
   },
   "outputs": [],
   "source": [
    "%matplotlib inline\n",
    "import matplotlib.pyplot as plt\n",
    "plt.imshow(img)"
   ]
  },
  {
   "cell_type": "markdown",
   "metadata": {},
   "source": [
    "## Continuous rotation electron diffraction\n",
    "\n",
    "This is an example of what data collection would look like with a continuous rotation. The difference is that the target angle is set using `wait=False`. This means that the call is non-blocking, so that the script can continue. We will stop data collection once the angle has reached the target angle."
   ]
  },
  {
   "cell_type": "code",
   "execution_count": null,
   "metadata": {
    "scrolled": true
   },
   "outputs": [],
   "source": [
    "exposure = 0.5\n",
    "start_angle =  50 # degrees\n",
    "end_angle   = -50 # degrees\n",
    "\n",
    "ctrl.stageposition.set(a=start_angle)\n",
    "ctrl.stageposition.set(a=end_angle, wait=False)\n",
    "\n",
    "buffer = []\n",
    "i = 0\n",
    "\n",
    "while ctrl.stageposition.a != end_angle:\n",
    "    i += 1\n",
    "    img, h = ctrl.getImage(exposure=exposure)\n",
    "    buffer.append((img, h))\n",
    "    print(f\"Frame {i} @ {ctrl.stageposition.a:.1f}°\")\n",
    "\n",
    "for img, h in buffer:\n",
    "    write_tiff(f\"cred_{i:04d}.tiff\", img, header=h)\n",
    "    "
   ]
  },
  {
   "cell_type": "markdown",
   "metadata": {},
   "source": [
    "## Serial electron diffraction\n",
    "\n",
    "In a serial electron diffraction experiment, data are collected for a large number of crystals. The coordinates can be obtained from images taken at low magnification, but in this example a grid of coordinates will be created."
   ]
  },
  {
   "cell_type": "code",
   "execution_count": null,
   "metadata": {
    "scrolled": true
   },
   "outputs": [],
   "source": [
    "from instamatic.tools import prepare_grid_coordinates\n",
    "\n",
    "nx, ny = 3, 3\n",
    "stepsize = 1000 # nm -> µm\n",
    "\n",
    "coords = prepare_grid_coordinates(nx=nx, ny=ny, stepsize=stepsize)\n",
    "print(coords)    "
   ]
  },
  {
   "cell_type": "markdown",
   "metadata": {},
   "source": [
    "We then loop over every coordinate and collect a diffraction pattern. We can then defocus the diffraction pattern to obtain an image of the crystal in the primary beam."
   ]
  },
  {
   "cell_type": "code",
   "execution_count": null,
   "metadata": {
    "scrolled": true
   },
   "outputs": [],
   "source": [
    "exposure = 0.2  # s\n",
    "\n",
    "ctrl.mode = \"diff\"\n",
    "\n",
    "for i, (x, y) in enumerate(coords):\n",
    "    ctrl.stageposition.set(x=x, y=y)\n",
    "    print(f\"\\nImage {i} @ Position: {ctrl.stageposition.xy}\")\n",
    "\n",
    "    img, h = ctrl.getImage(exposure=exposure)\n",
    "    write_tiff(f\"sed_diff_{i:04d}.tiff\", img, header=h)\n",
    "\n",
    "    ctrl.difffocus.defocus(offset=1500)\n",
    "    \n",
    "    img, h = ctrl.getImage(exposure=exposure)\n",
    "    write_tiff(f\"sed_image_{i:04d}.tiff\", img, header=h)\n",
    "    \n",
    "    ctrl.difffocus.refocus()"
   ]
  },
  {
   "cell_type": "code",
   "execution_count": null,
   "metadata": {
    "scrolled": true
   },
   "outputs": [],
   "source": []
  }
 ],
 "metadata": {
  "kernelspec": {
   "display_name": "Python 3",
   "language": "python",
   "name": "python3"
  },
  "language_info": {
   "codemirror_mode": {
    "name": "ipython",
    "version": 3
   },
   "file_extension": ".py",
   "mimetype": "text/x-python",
   "name": "python",
   "nbconvert_exporter": "python",
   "pygments_lexer": "ipython3",
   "version": "3.7.0"
  }
 },
 "nbformat": 4,
 "nbformat_minor": 2
}
